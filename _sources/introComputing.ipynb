{
 "cells": [
  {
   "cell_type": "markdown",
   "id": "d64cb94e",
   "metadata": {},
   "source": [
    "# Intro to our computing projects\n",
    "\n",
    "## ML with docker containers\n",
    "\n",
    "As a first step into develop our computing resources we will develop a docker container with some [python](https://swcarpentry.github.io/python-novice-inflammation/) and [ROOT](https://root.cern/doc/master/group__Tutorials.html) libraries. We will focus on a [modified version](https://github.com/alefisico/machine-learning-das) of [this tutorial](https://indico.cern.ch/event/1088671/timetable/#90-period-5-short-exercise-mac), which contains all the libraries we need for further studies.\n",
    "\n",
    "The docker container is located in this [Docker Hub repo](https://hub.docker.com/repository/docker/alefisico/echep/general), which can be downloaded as:"
   ]
  },
  {
   "cell_type": "code",
   "execution_count": 1,
   "id": "62a0287d",
   "metadata": {},
   "outputs": [
    {
     "ename": "SyntaxError",
     "evalue": "invalid syntax (2948188711.py, line 1)",
     "output_type": "error",
     "traceback": [
      "\u001b[0;36m  Cell \u001b[0;32mIn[1], line 1\u001b[0;36m\u001b[0m\n\u001b[0;31m    docker push alefisico/echep:v0\u001b[0m\n\u001b[0m           ^\u001b[0m\n\u001b[0;31mSyntaxError\u001b[0m\u001b[0;31m:\u001b[0m invalid syntax\n"
     ]
    }
   ],
   "source": [
    "docker push alefisico/echep:v0"
   ]
  },
  {
   "cell_type": "markdown",
   "id": "83fcf471",
   "metadata": {},
   "source": [
    "And it can be run as:"
   ]
  },
  {
   "cell_type": "code",
   "execution_count": null,
   "id": "f681be6d",
   "metadata": {},
   "outputs": [],
   "source": [
    "docker run -it -p 8888:8888 alefisico/echep:v0"
   ]
  },
  {
   "cell_type": "markdown",
   "id": "0f3ddf0d",
   "metadata": {},
   "source": [
    "The output of this will be something like this:\n",
    "\n",
    "```\n",
    "...\n",
    "[C 19:49:38.011 NotebookApp]\n",
    "\n",
    "    To access the notebook, open this file in a browser:\n",
    "        file:///home/physicist/.local/share/jupyter/runtime/nbserver-1-open.html\n",
    "    Or copy and paste one of these URLs:\n",
    "        http://f722708eb2b8:8888/?token=9071fa4bvasdvfdsvadsvfsvfsdvf\n",
    "     or http://127.0.0.1:8888/?token=9071fa4bf97dfafwegffdsvfdvsdf\n",
    "\n",
    "```\n",
    "\n",
    "The docker will automatically open a `jupyter-notebook` with the notebooks to run, to open in your browser, copy the last link in your browser and open it.\n",
    "\n",
    "The books need to run the kernel called `python-analysis-env`.\n",
    "\n",
    "### Data for the tutorials\n",
    "\n",
    "In this version (v0) of the docker, the data for notebooks 4 and above is located inside the container, in the `data/` folder. This data is located [here](https://cernbox.cern.ch/remote.php/dav/public-files/MBdDqUTlNiRpuLo/data.tar.gz). As a next step, we can try to locate these data outside the container and develop a way to access it through the docker/kubernetes tools."
   ]
  }
 ],
 "metadata": {
  "jupytext": {
   "cell_metadata_filter": "-all",
   "formats": "md:myst",
   "text_representation": {
    "extension": ".md",
    "format_name": "myst",
    "format_version": 0.13,
    "jupytext_version": "1.11.5"
   }
  },
  "kernelspec": {
   "display_name": "Python 3",
   "language": "python",
   "name": "python3"
  },
  "language_info": {
   "codemirror_mode": {
    "name": "ipython",
    "version": 3
   },
   "file_extension": ".py",
   "mimetype": "text/x-python",
   "name": "python",
   "nbconvert_exporter": "python",
   "pygments_lexer": "ipython3",
   "version": "3.8.15"
  },
  "source_map": [
   14,
   24,
   26,
   30,
   32
  ]
 },
 "nbformat": 4,
 "nbformat_minor": 5
}